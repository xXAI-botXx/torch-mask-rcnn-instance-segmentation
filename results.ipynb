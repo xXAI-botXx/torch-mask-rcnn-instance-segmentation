{
 "cells": [
  {
   "cell_type": "markdown",
   "metadata": {},
   "source": [
    "# Results\n",
    "Compare results and create visualization"
   ]
  },
  {
   "cell_type": "code",
   "execution_count": 1,
   "metadata": {},
   "outputs": [],
   "source": [
    "import os\n",
    "import pickle\n",
    "\n",
    "import matplotlib.pyplot as plt\n",
    "import seaborn as sns\n",
    "\n",
    "import numpy as np\n",
    "import scipy.stats as stats"
   ]
  },
  {
   "cell_type": "markdown",
   "metadata": {},
   "source": [
    "Set path to the pickle result files"
   ]
  },
  {
   "cell_type": "code",
   "execution_count": 3,
   "metadata": {},
   "outputs": [
    {
     "data": {
      "text/plain": [
       "['mask_rcnn_rgb_3xM_Dataset_10_160_epoch_050_eval.pkl',\n",
       " 'mask_rcnn_rgb_3xM_Dataset_160_160_epoch_050_eval.pkl',\n",
       " 'mask_rcnn_rgb_3xM_Dataset_80_160_epoch_050_eval.pkl']"
      ]
     },
     "execution_count": 3,
     "metadata": {},
     "output_type": "execute_result"
    }
   ],
   "source": [
    "PATH = \"D:/3xM/3xM_Test_Dataset/RESULTS/In-Distribution Experiment\"    # Sim-to-real Experiment, In-Distribution Experiment\n",
    "os.listdir(PATH)"
   ]
  },
  {
   "cell_type": "markdown",
   "metadata": {},
   "source": [
    "Loading all results"
   ]
  },
  {
   "cell_type": "code",
   "execution_count": 6,
   "metadata": {},
   "outputs": [],
   "source": [
    "results = dict()\n",
    "for cur_file in os.listdir(PATH):\n",
    "    cur_path = os.path.join(PATH, cur_file)\n",
    "    cur_name = \".\".join(cur_file.split(\".\")[:-1])\n",
    "\n",
    "    # get the result\n",
    "    if cur_path.endswith(\".pkl\"):\n",
    "        with open(cur_path, \"rb\") as file:  \n",
    "            loaded_dict = pickle.load(file)\n",
    "        results[cur_name] = dict()\n",
    "        for key, value in loaded_dict.items():\n",
    "            results[cur_name][key] = value"
   ]
  },
  {
   "cell_type": "code",
   "execution_count": 9,
   "metadata": {},
   "outputs": [
    {
     "name": "stdout",
     "output_type": "stream",
     "text": [
      "mask_rcnn_rgb_3xM_Dataset_10_160_epoch_050_eval:\n",
      "         -> [0.9577720236480222, 0.8197242184217552, 0.8088515247638409, 0.924293388709994, 0.7521584015688361, 0.8258636640831037, 0.8213785697951185, 0.8222644146610935, 0.8882533413255759, 0.830643064747978, 0.706330655108127, 0.747361433141486, 0.663374583398345, 0.9234634830014726, 0.7825435124500892, 0.9379047322477709, 0.8903003444801718, 0.8615576802504207, 0.8775108657000534, 0.7932950844586473, 0.9324223584470626, 0.8127605751713822, 0.9288179155078103, 0.8908661698193436, 0.7698289873195, 0.8037860279465845, 0.788009922057922, 0.9652138052317749, 0.954840550151863, 0.9346270766742946, 0.8069988328879351, 0.7186253402668634, 0.7590903673143939, 0.8211617333239474, 0.9097853560839297, 0.7430323649527416, 0.7872231879362278, 0.811015952461034, 0.9078482640374466, 0.8223329707746012, 0.7843635600731056, 0.9314978714547003, 0.9228981850909814, 0.813987525136215, 0.7883604308567111, 0.7892137160658123, 0.5122025234896109, 0.7449289617957571, 0.9008571098759466, 0.7825055956400752, 0.9712379405545946, 0.9111263815142236, 0.9222355076327432, 0.7572019273896721, 0.9444083740210488, 0.8132237324787904, 0.9601185455886266, 0.9650857628129422, 0.7421474808080429, 0.8919382525610439, 0.7566067172668464, 0.7849552154085458, 0.8709345217564783, 0.6183941919903442, 0.8926159818962469, 0.8566155443472774, 0.8429717541164137, 0.8681617024707836, 0.8628541313676032, 0.7517350192785295, 0.7883068457254817, 0.7613635781730129, 0.9592657110831776, 0.9359528415395129, 0.9014872320286273, 0.7724655647303637, 0.7745215232101917, 0.9138908742050448, 0.8634208230487858, 0.861313235698044, 0.737442157737409, 0.9380623550072632, 0.8663288442017343, 0.8622101410622913, 0.7818760028850094, 0.7851022364627818, 0.9536457863136644, 0.9445626544816342, 0.9797835084368036, 0.812960471083687, 0.9385860886579096, 0.7403307436770328, 0.8226983522650583, 0.775813611386431, 0.8964529380175421, 0.791260189662049, 0.8011717223920342, 0.7720656334273547, 0.8639149936287783, 0.8882470314533394]\n",
      "mask_rcnn_rgb_3xM_Dataset_160_160_epoch_050_eval:\n",
      "         -> [0.9540075956708906, 0.8390426351743638, 0.7938643709479832, 0.9327234735984934, 0.7908237237661666, 0.8696133869680822, 0.8306622737850079, 0.8455801071588186, 0.8829535660774507, 0.8504895776282022, 0.7717213362475756, 0.7643978759622169, 0.7346225195399068, 0.9448484007706871, 0.7247787266412216, 0.9464579650033474, 0.8895265420253573, 0.8725515454424696, 0.8872608626506039, 0.8300948466981891, 0.9364903316197469, 0.862823447384737, 0.9387864888147829, 0.7977062346640872, 0.8665737139229794, 0.8374956380573666, 0.7804817953021409, 0.9711033765397404, 0.9655146375521668, 0.9472223475137095, 0.8142656317982704, 0.7487336585982229, 0.755392186883953, 0.8544736213766848, 0.9212182763128473, 0.7670161811946107, 0.8014079323982506, 0.8169635287105197, 0.9173094983110063, 0.8443904544872857, 0.6499552563266255, 0.9401647084891376, 0.931689436344414, 0.6131777411047717, 0.7721742418813528, 0.7946116760443552, 0.5600262673235361, 0.7325329480380993, 0.9123049209337996, 0.7813181119608652, 0.9797864184069702, 0.9336121225607048, 0.8661723379424782, 0.7954476963023206, 0.9492669031317512, 0.7782445641573069, 0.9654902085735284, 0.9709811687695854, 0.76769450359307, 0.9138703010363675, 0.7449814950198937, 0.8234903757108271, 0.8771182207304336, 0.6129887739068633, 0.9049417311509742, 0.7918571687226946, 0.8766063077761203, 0.8849784611972181, 0.8928409097386726, 0.822308585905645, 0.6839201111495647, 0.822201144389005, 0.9667367196553375, 0.9453602822094407, 0.9139125668317162, 0.7282674100941026, 0.8625783963992999, 0.8384740444730312, 0.8476345504775168, 0.8724808333686782, 0.7728427781698186, 0.9420317271572575, 0.8601691358764159, 0.8810567971649944, 0.7377041185282107, 0.8002213551599966, 0.9568978768685406, 0.9252445192107442, 0.9827103760493209, 0.8372682240664119, 0.9508368727488474, 0.7582480679285765, 0.8284778278557262, 0.8026271193556056, 0.9068395151366112, 0.7395495534135912, 0.7981960955924023, 0.7619296136997282, 0.8800501611138399, 0.8997441842043562]\n",
      "mask_rcnn_rgb_3xM_Dataset_80_160_epoch_050_eval:\n",
      "         -> [0.9646880895239537, 0.837326952262179, 0.784535728436366, 0.9357598657111933, 0.7902058716084, 0.8762148326716208, 0.831602482273596, 0.8521942075706938, 0.9119833717692712, 0.8476807881442477, 0.7846152695632357, 0.7843610356699305, 0.8765320440466133, 0.9457037816971171, 0.7880416111972476, 0.9433354126545938, 0.8839283212969558, 0.8773997226037171, 0.8886518784216023, 0.8687309922153984, 0.9410474957751584, 0.9154269035978985, 0.9373644274232132, 0.809107302445767, 0.8489643695343256, 0.8372105919205011, 0.8049329907491451, 0.9732062877376472, 0.8592866954281421, 0.9498131709954307, 0.8238922319999201, 0.7992372406943016, 0.700260667673328, 0.8549142767954877, 0.9240872556145989, 0.7696757875367352, 0.788679075146821, 0.8175942554133561, 0.9217751519781485, 0.8345129921091592, 0.7930833068431573, 0.9426479694308199, 0.9312807039723165, 0.7825439053954744, 0.8604359951668815, 0.8226899016851759, 0.5532923956472158, 0.7771800928626084, 0.916944925325538, 0.8084316070729871, 0.9798552615521965, 0.9287587889522543, 0.871985661947407, 0.8070224104655151, 0.9555525745762918, 0.8119025108864352, 0.96712371560566, 0.9680589962826321, 0.7682692967062396, 0.922806491003031, 0.82450104190506, 0.8114570814481465, 0.8553668836159674, 0.6060437768063728, 0.9069595587120528, 0.8532442580880695, 0.875469466713883, 0.8836878216210645, 0.8939616167122342, 0.7832660475743329, 0.7319407149418911, 0.8154768801629151, 0.9655003107788017, 0.9501651767631089, 0.9139375248722383, 0.7260798804396043, 0.8769632060906387, 0.9290995991745311, 0.8765326610188285, 0.826393865648356, 0.7770937260922136, 0.9602519971423005, 0.868278632312165, 0.8861690685524796, 0.7909088695958906, 0.7942739812346296, 0.961164312070652, 0.9576170965828658, 0.9834251617475595, 0.8415835036956619, 0.9481922911463506, 0.7305705747154254, 0.831407525779181, 0.643025741953729, 0.9079973554941574, 0.7738042320702543, 0.850594215082278, 0.7978336084016923, 0.8822886513217709, 0.8989324318976034]\n"
     ]
    }
   ],
   "source": [
    "for model_name, metrics in results.items():\n",
    "    print(f\"{model_name}:\\n         -> {metrics['intersection over union']}\")"
   ]
  },
  {
   "cell_type": "markdown",
   "metadata": {},
   "source": [
    "### Compare Significants of change "
   ]
  },
  {
   "cell_type": "markdown",
   "metadata": {},
   "source": [
    "Test of normal distribution"
   ]
  },
  {
   "cell_type": "code",
   "execution_count": null,
   "metadata": {},
   "outputs": [],
   "source": [
    "normality_results = {}\n",
    "for name, data in results.items():\n",
    "    iou_values = data.get(\"intersection over union\")\n",
    "\n",
    "    if iou_values:\n",
    "        shapiro_stat, shapiro_p = stats.shapiro(iou_values)\n",
    "        normality_results[name] = (shapiro_stat, shapiro_p)\n",
    "        if shapiro_p > 0.05:\n",
    "            print(f\"{name}: IOU-values are normally distributed (p-Wert = {shapiro_p:.3f})\")\n",
    "        else:\n",
    "            print(f\"{name}: IOU-values are NOT normally distributed (p-Wert = {shapiro_p:.3f})\")\n",
    "\n",
    "all_normal = all(p > 0.05 for _, p in normality_results.values())\n",
    "if all_normal:\n",
    "    print(\"\\n\\n    -> All results are normally distributed, t test will be applied.\")\n",
    "else:\n",
    "    print(\"\\n\\n    -> NOT All results are normally distributed, Wilcoxon test will be applied.\")"
   ]
  },
  {
   "cell_type": "markdown",
   "metadata": {},
   "source": [
    "Let the test beginn"
   ]
  },
  {
   "cell_type": "code",
   "execution_count": null,
   "metadata": {},
   "outputs": [],
   "source": [
    "keys = list(results.keys())\n",
    "num_results = len(keys)\n",
    "p_values_matrix = np.ones((num_results, num_results))  # Initialisiere mit 1 (Diagonale wird sp�ter 0)\n",
    "\n",
    "# pairwaise t test\n",
    "for i in range(num_results):\n",
    "    for j in range(i + 1, num_results):\n",
    "        iou_1 = results[keys[i]][\"intersection over union\"]\n",
    "        iou_2 = results[keys[j]][\"intersection over union\"]\n",
    "        \n",
    "        # making a t test o wilcoxon test\n",
    "        if all_normal:\n",
    "            _, p_value = stats.ttest_rel(iou_1, iou_2)\n",
    "        else:\n",
    "            _, p_value = stats.wilcoxon(iou_1, iou_2)\n",
    "\n",
    "        p_values_matrix[i, j] = p_value\n",
    "\n",
    "# plotting of p values of all paris\n",
    "plt.figure(figsize=(10, 8))\n",
    "mask = np.triu(np.ones_like(p_values_matrix, dtype=bool)) \n",
    "sns.heatmap(p_values_matrix, mask=mask, annot=True, fmt=\".3f\", cmap=\"coolwarm\", \n",
    "            xticklabels=keys, yticklabels=keys, cbar_kws={\"label\": \"p-Wert\"})\n",
    "\n",
    "plt.title(\"P-Values test of IOU significants\")\n",
    "plt.show()"
   ]
  },
  {
   "cell_type": "markdown",
   "metadata": {},
   "source": [
    "Here is a detailed explanation for interpreting the results from the half heatmap plot of p-values:\n",
    "\n",
    "1. **Understanding p-values in the Context of Statistical Significance**:\n",
    "   - Each cell in the heatmap represents the p-value from a pairwise statistical test comparing the Intersection over Union (IOU) results of two experiments.\n",
    "   - A **p-value** indicates the probability that the observed difference between two sets of IOU results is due to random chance. Lower p-values suggest a significant difference, while higher p-values suggest that the difference may not be meaningful.\n",
    "\n",
    "2. **Heatmap Color Coding**:\n",
    "   - **Dark Colors (Low p-values)**: These cells represent pairs of experiments where the IOU results are significantly different. For example, if a cell has a p-value < 0.05, it means that there is less than a 5% chance that the observed difference is random. This suggests that the experimental modifications in those pairs likely lead to a real change in IOU performance.\n",
    "   - **Light Colors (High p-values)**: Cells with higher p-values (e.g., > 0.05) indicate pairs of experiments where the difference in IOU is not statistically significant. In other words, the observed difference could likely be due to random variation, and there is not enough evidence to conclude a true performance difference.\n",
    "\n",
    "3. **Diagonal and Masked Elements**:\n",
    "   - The **diagonal cells** (where each experiment is compared to itself) are masked because they naturally have a p-value of 1.0 (no difference exists when comparing a result to itself).\n",
    "   - The **upper half** of the matrix is masked to simplify the plot, as the p-values are symmetrical; each pairwise comparison only needs to be shown once.\n",
    "\n",
    "4. **Choosing Significance Thresholds**:\n",
    "   - Typically, a **threshold of 0.05** is used to denote significance (darker colors in cells below this threshold), but some researchers may apply more stringent thresholds (e.g., 0.01 or 0.001) depending on their confidence requirements.\n",
    "   - If a significant number of cells show p-values below 0.05, it suggests that many experimental adjustments may genuinely affect IOU performance. Conversely, if most p-values are above 0.05, it may indicate that the experimental variations do not lead to meaningful differences in IOU performance.\n",
    "\n",
    "5. **Further Considerations and Practical Implications**:\n",
    "   - A **cluster of dark cells** for certain experiments suggests that those specific experiments may have systematically different IOU results compared to others. This can be valuable in identifying which experimental adjustments are particularly impactful.\n",
    "   - The presence of high p-values (light cells) between multiple experiments implies that those experimental variations produce similar IOU results, indicating that changing those factors may not significantly impact model performance.\n",
    "   - **Interpret the direction and magnitude** of significant differences separately from the p-values, as the heatmap itself only tells us whether the difference is statistically significant, not whether it improves or worsens IOU.\n",
    "\n",
    "By using this heatmap interpretation, you can effectively determine which experiments lead to meaningful changes in performance, guiding future adjustments or fine-tuning based on significant outcomes."
   ]
  },
  {
   "cell_type": "markdown",
   "metadata": {},
   "source": [
    "### Visualize Results"
   ]
  },
  {
   "cell_type": "code",
   "execution_count": null,
   "metadata": {},
   "outputs": [],
   "source": [
    "# Calculate mean IOU for each experiment\n",
    "mean_results = {name: np.mean(data[\"intersection over union\"]) for name, data in results.items()}\n",
    "\n",
    "# Plot the mean results in a bar chart using subplots\n",
    "fig, ax = plt.subplots(figsize=(10, 6))\n",
    "ax.bar(mean_results.keys(), mean_results.values(), color=\"skyblue\")\n",
    "ax.set_xlabel(\"Experiment\")\n",
    "ax.set_ylabel(\"Mean IOU\")\n",
    "ax.set_title(\"Mean IOU Results by Experiment\")\n",
    "ax.set_xticklabels(mean_results.keys(), rotation=45, ha=\"right\")\n",
    "\n",
    "# Show the plot\n",
    "plt.tight_layout()\n",
    "plt.show()"
   ]
  },
  {
   "cell_type": "markdown",
   "metadata": {},
   "source": [
    "... more visualizations"
   ]
  },
  {
   "cell_type": "code",
   "execution_count": null,
   "metadata": {},
   "outputs": [],
   "source": []
  },
  {
   "cell_type": "markdown",
   "metadata": {},
   "source": [
    "---"
   ]
  }
 ],
 "metadata": {
  "kernelspec": {
   "display_name": "maskrcnn",
   "language": "python",
   "name": "python3"
  },
  "language_info": {
   "codemirror_mode": {
    "name": "ipython",
    "version": 3
   },
   "file_extension": ".py",
   "mimetype": "text/x-python",
   "name": "python",
   "nbconvert_exporter": "python",
   "pygments_lexer": "ipython3",
   "version": "3.10.15"
  }
 },
 "nbformat": 4,
 "nbformat_minor": 2
}
